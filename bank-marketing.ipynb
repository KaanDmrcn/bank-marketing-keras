{
 "cells": [
  {
   "cell_type": "code",
   "execution_count": 1,
   "id": "a511e56f-3860-4da2-935c-f73e9b1f2265",
   "metadata": {
    "tags": []
   },
   "outputs": [],
   "source": [
    "import pandas as pd\n",
    "import numpy as np\n",
    "import matplotlib.pyplot as plt\n",
    "import seaborn as sns"
   ]
  },
  {
   "cell_type": "code",
   "execution_count": 2,
   "id": "bc1daac9-c1ad-4267-beaf-9dd3f4d8eb3e",
   "metadata": {},
   "outputs": [],
   "source": [
    "data = pd.read_csv('train.csv')"
   ]
  },
  {
   "cell_type": "code",
   "execution_count": 3,
   "id": "d44447f0-944a-48dd-a0de-85f6a04bc613",
   "metadata": {},
   "outputs": [],
   "source": [
    "from sklearn.preprocessing import LabelEncoder\n",
    "lbe = LabelEncoder()"
   ]
  },
  {
   "cell_type": "code",
   "execution_count": 4,
   "id": "2cfdd96a-ab02-4883-bb54-9089f0d9c9c2",
   "metadata": {},
   "outputs": [],
   "source": [
    "data['job'] = lbe.fit_transform(data[\"job\"])\n",
    "data['marital'] = lbe.fit_transform(data[\"marital\"])\n",
    "data['education'] = lbe.fit_transform(data[\"education\"])\n",
    "data['default'] = lbe.fit_transform(data[\"default\"])\n",
    "data['housing'] = lbe.fit_transform(data[\"housing\"])\n",
    "data['loan'] = lbe.fit_transform(data[\"loan\"])\n",
    "data['contact'] = lbe.fit_transform(data[\"contact\"])\n",
    "data['month'] = lbe.fit_transform(data[\"month\"])\n",
    "data['day_of_week'] = lbe.fit_transform(data[\"day_of_week\"])\n",
    "data['poutcome'] = lbe.fit_transform(data[\"poutcome\"])\n",
    "data['y'] = lbe.fit_transform(data[\"y\"])"
   ]
  },
  {
   "cell_type": "code",
   "execution_count": 5,
   "id": "3c2994e8-8c47-46b2-a1f1-eaae47d3767d",
   "metadata": {},
   "outputs": [
    {
     "name": "stdout",
     "output_type": "stream",
     "text": [
      "<class 'pandas.core.frame.DataFrame'>\n",
      "RangeIndex: 41188 entries, 0 to 41187\n",
      "Data columns (total 20 columns):\n",
      " #   Column          Non-Null Count  Dtype  \n",
      "---  ------          --------------  -----  \n",
      " 0   age             41188 non-null  int64  \n",
      " 1   job             41188 non-null  int32  \n",
      " 2   marital         41188 non-null  int32  \n",
      " 3   education       41188 non-null  int32  \n",
      " 4   default         41188 non-null  int32  \n",
      " 5   housing         41188 non-null  int32  \n",
      " 6   loan            41188 non-null  int32  \n",
      " 7   contact         41188 non-null  int32  \n",
      " 8   month           41188 non-null  int32  \n",
      " 9   day_of_week     41188 non-null  int32  \n",
      " 10  campaign        41188 non-null  int64  \n",
      " 11  pdays           41188 non-null  int64  \n",
      " 12  previous        41188 non-null  int64  \n",
      " 13  poutcome        41188 non-null  int32  \n",
      " 14  emp.var.rate    41188 non-null  float64\n",
      " 15  cons.price.idx  41188 non-null  float64\n",
      " 16  cons.conf.idx   41188 non-null  float64\n",
      " 17  euribor3m       41188 non-null  float64\n",
      " 18  nr.employed     41188 non-null  float64\n",
      " 19  y               41188 non-null  int32  \n",
      "dtypes: float64(5), int32(11), int64(4)\n",
      "memory usage: 4.6 MB\n"
     ]
    }
   ],
   "source": [
    "data.info()"
   ]
  },
  {
   "cell_type": "code",
   "execution_count": 6,
   "id": "988d8d25-168e-419c-90d9-e42931089995",
   "metadata": {},
   "outputs": [],
   "source": [
    "y = data[\"y\"]\n",
    "X = data.drop(['y', 'loan', 'day_of_week', 'housing'],axis=1)"
   ]
  },
  {
   "cell_type": "code",
   "execution_count": 7,
   "id": "77ec5794-af1c-41d2-9aa5-05adcbd6d1d9",
   "metadata": {},
   "outputs": [],
   "source": [
    "from sklearn.model_selection import train_test_split"
   ]
  },
  {
   "cell_type": "code",
   "execution_count": 8,
   "id": "6fe5e553-52ed-4b65-b4b3-262f937b668f",
   "metadata": {},
   "outputs": [],
   "source": [
    "X_train, X_test, y_train, y_test = train_test_split(X,y,test_size=0.25,random_state=15)"
   ]
  },
  {
   "cell_type": "code",
   "execution_count": 9,
   "id": "71d2873c-52a5-4511-a210-c079b266dc64",
   "metadata": {},
   "outputs": [
    {
     "data": {
      "text/plain": [
       "(30891,)"
      ]
     },
     "execution_count": 9,
     "metadata": {},
     "output_type": "execute_result"
    }
   ],
   "source": [
    "y_train.shape"
   ]
  },
  {
   "cell_type": "code",
   "execution_count": 10,
   "id": "e867fc16-7d90-4b71-909a-32c11b0fcd9d",
   "metadata": {},
   "outputs": [
    {
     "name": "stdout",
     "output_type": "stream",
     "text": [
      "Model: \"sequential\"\n",
      "_________________________________________________________________\n",
      " Layer (type)                Output Shape              Param #   \n",
      "=================================================================\n",
      " dense (Dense)               (None, 16)                272       \n",
      "                                                                 \n",
      " dense_1 (Dense)             (None, 9)                 153       \n",
      "                                                                 \n",
      " dense_2 (Dense)             (None, 1)                 10        \n",
      "                                                                 \n",
      "=================================================================\n",
      "Total params: 435\n",
      "Trainable params: 435\n",
      "Non-trainable params: 0\n",
      "_________________________________________________________________\n"
     ]
    }
   ],
   "source": [
    "from keras.callbacks import Callback,ModelCheckpoint\n",
    "from keras.models import Sequential,load_model\n",
    "from keras.layers import Dense, Dropout,BatchNormalization,Activation\n",
    "from keras.wrappers.scikit_learn import KerasClassifier\n",
    "import keras.backend as K\n",
    "from tensorflow import keras\n",
    "\n",
    "def recall_m(y_true, y_pred):\n",
    "    true_positives = K.sum(K.round(K.clip(y_true * y_pred, 0, 1)))\n",
    "    possible_positives = K.sum(K.round(K.clip(y_true, 0, 1)))\n",
    "    recall = true_positives / (possible_positives + K.epsilon())\n",
    "    return recall\n",
    "\n",
    "def precision_m(y_true, y_pred):\n",
    "    true_positives = K.sum(K.round(K.clip(y_true * y_pred, 0, 1)))\n",
    "    predicted_positives = K.sum(K.round(K.clip(y_pred, 0, 1)))\n",
    "    precision = true_positives / (predicted_positives + K.epsilon())\n",
    "    return precision\n",
    "\n",
    "def f1_m(y_true, y_pred):\n",
    "    precision = precision_m(y_true, y_pred)\n",
    "    recall = recall_m(y_true, y_pred)\n",
    "    return 2*((precision*recall)/(precision+recall+K.epsilon()))\n",
    "\n",
    "model = Sequential()\n",
    "model.add(Dense(16, input_dim=16, activation='relu'))\n",
    "model.add(Dense(9, activation='relu'))\n",
    "model.add(Dense(1, activation='sigmoid'))\n",
    "model.summary()\n",
    "\n",
    "opt = keras.optimizers.Adam(learning_rate=0.0001)\n",
    "\n",
    "# compile the model\n",
    "model.compile(optimizer=opt, loss='binary_crossentropy', metrics=['accuracy',f1_m,precision_m, recall_m])\n",
    "\n",
    "\n",
    "\n",
    "\n"
   ]
  },
  {
   "cell_type": "code",
   "execution_count": 11,
   "id": "24cab102-17f3-4c3e-82e9-6d54ec43194e",
   "metadata": {
    "tags": []
   },
   "outputs": [
    {
     "name": "stdout",
     "output_type": "stream",
     "text": [
      "Epoch 1/50\n",
      "3862/3862 [==============================] - 10s 2ms/step - loss: 22.3839 - accuracy: 0.8297 - f1_m: 0.1435 - precision_m: 0.1604 - recall_m: 0.1658 - val_loss: 0.7919 - val_accuracy: 0.8955 - val_f1_m: 0.1470 - val_precision_m: 0.1743 - val_recall_m: 0.1381\n",
      "Epoch 2/50\n",
      "3862/3862 [==============================] - 9s 2ms/step - loss: 0.4462 - accuracy: 0.8824 - f1_m: 0.1325 - precision_m: 0.1549 - recall_m: 0.1307 - val_loss: 0.5395 - val_accuracy: 0.7626 - val_f1_m: 0.2810 - val_precision_m: 0.2408 - val_recall_m: 0.3994ion_m: 0.1555 - recall_m:  - ETA: 0s - loss: 0.4464 - accuracy: 0.8823 - f1_m: 0.1328 - precision_m: 0.1553 - recall_m: 0.13\n",
      "Epoch 3/50\n",
      "3862/3862 [==============================] - 10s 3ms/step - loss: 0.3778 - accuracy: 0.8849 - f1_m: 0.1266 - precision_m: 0.1428 - recall_m: 0.1296 - val_loss: 0.3012 - val_accuracy: 0.8963 - val_f1_m: 0.1368 - val_precision_m: 0.1646 - val_recall_m: 0.1267\n",
      "Epoch 4/50\n",
      "3862/3862 [==============================] - 9s 2ms/step - loss: 0.3883 - accuracy: 0.8808 - f1_m: 0.1296 - precision_m: 0.1450 - recall_m: 0.1344 - val_loss: 0.3355 - val_accuracy: 0.8810 - val_f1_m: 0.2518 - val_precision_m: 0.2698 - val_recall_m: 0.2646\n",
      "Epoch 5/50\n",
      "3862/3862 [==============================] - 9s 2ms/step - loss: 0.3944 - accuracy: 0.8803 - f1_m: 0.1353 - precision_m: 0.1484 - recall_m: 0.1426 - val_loss: 0.5962 - val_accuracy: 0.8873 - val_f1_m: 0.0000e+00 - val_precision_m: 0.0000e+00 - val_recall_m: 0.0000e+00\n",
      "Epoch 6/50\n",
      "3862/3862 [==============================] - 9s 2ms/step - loss: 0.3827 - accuracy: 0.8815 - f1_m: 0.1328 - precision_m: 0.1480 - recall_m: 0.1387 - val_loss: 0.3960 - val_accuracy: 0.8909 - val_f1_m: 0.0513 - val_precision_m: 0.0641 - val_recall_m: 0.0462835 - accuracy: 0.8813 - f1_m: 0.1334 - precision_m: 0.1486 - recall_m: 0.13\n",
      "Epoch 7/50\n",
      "3862/3862 [==============================] - 9s 2ms/step - loss: 0.3761 - accuracy: 0.8837 - f1_m: 0.1410 - precision_m: 0.1575 - recall_m: 0.1446 - val_loss: 0.5388 - val_accuracy: 0.8887 - val_f1_m: 0.0205 - val_precision_m: 0.0264 - val_recall_m: 0.0179\n",
      "Epoch 8/50\n",
      "3862/3862 [==============================] - 9s 2ms/step - loss: 0.3825 - accuracy: 0.8817 - f1_m: 0.1332 - precision_m: 0.1498 - recall_m: 0.1378 - val_loss: 0.5085 - val_accuracy: 0.8873 - val_f1_m: 0.0000e+00 - val_precision_m: 0.0000e+00 - val_recall_m: 0.0000e+00\n",
      "Epoch 9/50\n",
      "3862/3862 [==============================] - 9s 2ms/step - loss: 0.3694 - accuracy: 0.8843 - f1_m: 0.1368 - precision_m: 0.1527 - recall_m: 0.1401 - val_loss: 0.3678 - val_accuracy: 0.8714 - val_f1_m: 0.2917 - val_precision_m: 0.2974 - val_recall_m: 0.3228\n",
      "Epoch 10/50\n",
      "3862/3862 [==============================] - 9s 2ms/step - loss: 0.3778 - accuracy: 0.8820 - f1_m: 0.1359 - precision_m: 0.1508 - recall_m: 0.1413 - val_loss: 0.4326 - val_accuracy: 0.8881 - val_f1_m: 0.0089 - val_precision_m: 0.0124 - val_recall_m: 0.0075\n",
      "Epoch 11/50\n",
      "3862/3862 [==============================] - 10s 3ms/step - loss: 0.3728 - accuracy: 0.8826 - f1_m: 0.1356 - precision_m: 0.1474 - recall_m: 0.1427 - val_loss: 0.3414 - val_accuracy: 0.8967 - val_f1_m: 0.1368 - val_precision_m: 0.1646 - val_recall_m: 0.1267\n",
      "Epoch 12/50\n",
      "3862/3862 [==============================] - 10s 2ms/step - loss: 0.3704 - accuracy: 0.8848 - f1_m: 0.1356 - precision_m: 0.1555 - recall_m: 0.1370 - val_loss: 0.2988 - val_accuracy: 0.8906 - val_f1_m: 0.1827 - val_precision_m: 0.2079 - val_recall_m: 0.1779\n",
      "Epoch 13/50\n",
      "3862/3862 [==============================] - 9s 2ms/step - loss: 0.3793 - accuracy: 0.8825 - f1_m: 0.1320 - precision_m: 0.1462 - recall_m: 0.1386 - val_loss: 0.2970 - val_accuracy: 0.8974 - val_f1_m: 0.1176 - val_precision_m: 0.1425 - val_recall_m: 0.1087\n",
      "Epoch 14/50\n",
      "3862/3862 [==============================] - 10s 2ms/step - loss: 0.3742 - accuracy: 0.8832 - f1_m: 0.1353 - precision_m: 0.1515 - recall_m: 0.1395 - val_loss: 0.3124 - val_accuracy: 0.8978 - val_f1_m: 0.1290 - val_precision_m: 0.1545 - val_recall_m: 0.1198\n",
      "Epoch 15/50\n",
      "3862/3862 [==============================] - 9s 2ms/step - loss: 0.3775 - accuracy: 0.8824 - f1_m: 0.1385 - precision_m: 0.1549 - recall_m: 0.1427 - val_loss: 0.3003 - val_accuracy: 0.8894 - val_f1_m: 0.2012 - val_precision_m: 0.2265 - val_recall_m: 0.1988\n",
      "Epoch 16/50\n",
      "3862/3862 [==============================] - 9s 2ms/step - loss: 0.3717 - accuracy: 0.8829 - f1_m: 0.1345 - precision_m: 0.1497 - recall_m: 0.1380 - val_loss: 0.4848 - val_accuracy: 0.8069 - val_f1_m: 0.3109 - val_precision_m: 0.2805 - val_recall_m: 0.4067\n",
      "Epoch 17/50\n",
      "3862/3862 [==============================] - 10s 2ms/step - loss: 0.3771 - accuracy: 0.8846 - f1_m: 0.1418 - precision_m: 0.1561 - recall_m: 0.1474 - val_loss: 0.2992 - val_accuracy: 0.8949 - val_f1_m: 0.0842 - val_precision_m: 0.1034 - val_recall_m: 0.0767\n",
      "Epoch 18/50\n",
      "3862/3862 [==============================] - 9s 2ms/step - loss: 0.3742 - accuracy: 0.8836 - f1_m: 0.1391 - precision_m: 0.1534 - recall_m: 0.1449 - val_loss: 0.3476 - val_accuracy: 0.8908 - val_f1_m: 0.0482 - val_precision_m: 0.0602 - val_recall_m: 0.0435- accuracy: 0.8813 - f1_m: 0.1394 -  - ETA: 1s - loss: 0.3736 - accuracy: 0.8839 - f1_m: 0.1370 - precision_m: 0.1506 - recall_m:  - ETA: 0s - loss: 0.3752 - accuracy: 0.8841 - f1_m: 0.1361 - \n",
      "Epoch 19/50\n",
      "3862/3862 [==============================] - 10s 2ms/step - loss: 0.3750 - accuracy: 0.8809 - f1_m: 0.1306 - precision_m: 0.1472 - recall_m: 0.1351 - val_loss: 0.2966 - val_accuracy: 0.8924 - val_f1_m: 0.0657 - val_precision_m: 0.0801 - val_recall_m: 0.0602\n",
      "Epoch 20/50\n",
      "3862/3862 [==============================] - 9s 2ms/step - loss: 0.3760 - accuracy: 0.8834 - f1_m: 0.1406 - precision_m: 0.1556 - recall_m: 0.1453 - val_loss: 0.2872 - val_accuracy: 0.8969 - val_f1_m: 0.1407 - val_precision_m: 0.1685 - val_recall_m: 0.1311\n",
      "Epoch 21/50\n",
      "3862/3862 [==============================] - 9s 2ms/step - loss: 0.3682 - accuracy: 0.8828 - f1_m: 0.1358 - precision_m: 0.1519 - recall_m: 0.1395 - val_loss: 0.3170 - val_accuracy: 0.8941 - val_f1_m: 0.0789 - val_precision_m: 0.0968 - val_recall_m: 0.0719\n",
      "Epoch 22/50\n",
      "3862/3862 [==============================] - 10s 2ms/step - loss: 0.3773 - accuracy: 0.8828 - f1_m: 0.1347 - precision_m: 0.1472 - recall_m: 0.1405 - val_loss: 0.2843 - val_accuracy: 0.8975 - val_f1_m: 0.1255 - val_precision_m: 0.1510 - val_recall_m: 0.1163\n",
      "Epoch 23/50\n",
      "3862/3862 [==============================] - 9s 2ms/step - loss: 0.3670 - accuracy: 0.8837 - f1_m: 0.1342 - precision_m: 0.1487 - recall_m: 0.1396 - val_loss: 0.3368 - val_accuracy: 0.8794 - val_f1_m: 0.2583 - val_precision_m: 0.2754 - val_recall_m: 0.2723\n",
      "Epoch 24/50\n",
      "3862/3862 [==============================] - 10s 2ms/step - loss: 0.3768 - accuracy: 0.8823 - f1_m: 0.1336 - precision_m: 0.1465 - recall_m: 0.1401 - val_loss: 0.3201 - val_accuracy: 0.8976 - val_f1_m: 0.1282 - val_precision_m: 0.1537 - val_recall_m: 0.1190\n",
      "Epoch 25/50\n",
      "3862/3862 [==============================] - 10s 3ms/step - loss: 0.3766 - accuracy: 0.8817 - f1_m: 0.1384 - precision_m: 0.1531 - recall_m: 0.1456 - val_loss: 0.5052 - val_accuracy: 0.8873 - val_f1_m: 0.0000e+00 - val_precision_m: 0.0000e+00 - val_recall_m: 0.0000e+00\n",
      "Epoch 26/50\n",
      "3862/3862 [==============================] - 9s 2ms/step - loss: 0.3706 - accuracy: 0.8844 - f1_m: 0.1415 - precision_m: 0.1570 - recall_m: 0.1464 - val_loss: 0.3110 - val_accuracy: 0.8965 - val_f1_m: 0.1048 - val_precision_m: 0.1269 - val_recall_m: 0.0969\n",
      "Epoch 27/50\n",
      "3862/3862 [==============================] - 10s 3ms/step - loss: 0.3709 - accuracy: 0.8819 - f1_m: 0.1356 - precision_m: 0.1500 - recall_m: 0.1402 - val_loss: 0.2848 - val_accuracy: 0.8965 - val_f1_m: 0.1512 - val_precision_m: 0.1786 - val_recall_m: 0.1422\n",
      "Epoch 28/50\n",
      "3862/3862 [==============================] - 9s 2ms/step - loss: 0.3778 - accuracy: 0.8837 - f1_m: 0.1399 - precision_m: 0.1549 - recall_m: 0.1474 - val_loss: 0.3632 - val_accuracy: 0.8705 - val_f1_m: 0.2936 - val_precision_m: 0.2981 - val_recall_m: 0.3258\n",
      "Epoch 29/50\n",
      "3862/3862 [==============================] - 10s 2ms/step - loss: 0.3773 - accuracy: 0.8829 - f1_m: 0.1384 - precision_m: 0.1523 - recall_m: 0.1443 - val_loss: 0.2910 - val_accuracy: 0.8942 - val_f1_m: 0.1738 - val_precision_m: 0.2016 - val_recall_m: 0.1658\n",
      "Epoch 30/50\n",
      "3862/3862 [==============================] - 9s 2ms/step - loss: 0.3724 - accuracy: 0.8839 - f1_m: 0.1383 - precision_m: 0.1554 - recall_m: 0.1420 - val_loss: 0.3238 - val_accuracy: 0.8968 - val_f1_m: 0.1069 - val_precision_m: 0.1293 - val_recall_m: 0.0989\n",
      "Epoch 31/50\n",
      "3862/3862 [==============================] - 10s 2ms/step - loss: 0.3762 - accuracy: 0.8849 - f1_m: 0.1406 - precision_m: 0.1566 - recall_m: 0.1464 - val_loss: 0.3081 - val_accuracy: 0.8960 - val_f1_m: 0.1363 - val_precision_m: 0.1638 - val_recall_m: 0.1267\n",
      "Epoch 32/50\n",
      "3862/3862 [==============================] - 10s 3ms/step - loss: 0.3556 - accuracy: 0.8852 - f1_m: 0.1421 - precision_m: 0.1567 - recall_m: 0.1470 - val_loss: 0.3241 - val_accuracy: 0.8831 - val_f1_m: 0.2434 - val_precision_m: 0.2618 - val_recall_m: 0.2529\n",
      "Epoch 33/50\n",
      "3862/3862 [==============================] - 9s 2ms/step - loss: 0.3787 - accuracy: 0.8822 - f1_m: 0.1357 - precision_m: 0.1492 - recall_m: 0.1427 - val_loss: 0.5221 - val_accuracy: 0.8921 - val_f1_m: 0.0576 - val_precision_m: 0.0707 - val_recall_m: 0.0525\n",
      "Epoch 34/50\n",
      "3862/3862 [==============================] - 10s 2ms/step - loss: 0.3693 - accuracy: 0.8835 - f1_m: 0.1389 - precision_m: 0.1522 - recall_m: 0.1438 - val_loss: 0.8115 - val_accuracy: 0.8873 - val_f1_m: 0.0000e+00 - val_precision_m: 0.0000e+00 - val_recall_m: 0.0000e+00\n",
      "Epoch 35/50\n",
      "3862/3862 [==============================] - 9s 2ms/step - loss: 0.3778 - accuracy: 0.8827 - f1_m: 0.1364 - precision_m: 0.1506 - recall_m: 0.1437 - val_loss: 0.3712 - val_accuracy: 0.8635 - val_f1_m: 0.3061 - val_precision_m: 0.3047 - val_recall_m: 0.3489\n",
      "Epoch 36/50\n",
      "3862/3862 [==============================] - 9s 2ms/step - loss: 0.3657 - accuracy: 0.8850 - f1_m: 0.1416 - precision_m: 0.1589 - recall_m: 0.1442 - val_loss: 0.3267 - val_accuracy: 0.8981 - val_f1_m: 0.1202 - val_precision_m: 0.1448 - val_recall_m: 0.1112\n",
      "Epoch 37/50\n",
      "3862/3862 [==============================] - 9s 2ms/step - loss: 0.3717 - accuracy: 0.8828 - f1_m: 0.1353 - precision_m: 0.1507 - recall_m: 0.1404 - val_loss: 0.3227 - val_accuracy: 0.8806 - val_f1_m: 0.2604 - val_precision_m: 0.2768 - val_recall_m: 0.2758\n",
      "Epoch 38/50\n",
      "3862/3862 [==============================] - 10s 2ms/step - loss: 0.3806 - accuracy: 0.8829 - f1_m: 0.1373 - precision_m: 0.1528 - recall_m: 0.1411 - val_loss: 0.6394 - val_accuracy: 0.7299 - val_f1_m: 0.2919 - val_precision_m: 0.2397 - val_recall_m: 0.4440\n",
      "Epoch 39/50\n",
      "3862/3862 [==============================] - 10s 2ms/step - loss: 0.3681 - accuracy: 0.8827 - f1_m: 0.1345 - precision_m: 0.1506 - recall_m: 0.1387 - val_loss: 0.3645 - val_accuracy: 0.8925 - val_f1_m: 0.0604 - val_precision_m: 0.0743 - val_recall_m: 0.0549\n",
      "Epoch 40/50\n",
      "3862/3862 [==============================] - 9s 2ms/step - loss: 0.3721 - accuracy: 0.8822 - f1_m: 0.1359 - precision_m: 0.1497 - recall_m: 0.1421 - val_loss: 0.5704 - val_accuracy: 0.8873 - val_f1_m: 0.0000e+00 - val_precision_m: 0.0000e+00 - val_recall_m: 0.0000e+00oss: 0.3714 - accuracy: 0.8824 - f1_m: 0.1289 -  - ETA: 2s\n",
      "Epoch 41/50\n",
      "3862/3862 [==============================] - 10s 3ms/step - loss: 0.3674 - accuracy: 0.8840 - f1_m: 0.1356 - precision_m: 0.1509 - recall_m: 0.1402 - val_loss: 0.6180 - val_accuracy: 0.8873 - val_f1_m: 0.0000e+00 - val_precision_m: 0.0000e+00 - val_recall_m: 0.0000e+00\n",
      "Epoch 42/50\n",
      "3862/3862 [==============================] - 9s 2ms/step - loss: 0.3825 - accuracy: 0.8823 - f1_m: 0.1358 - precision_m: 0.1517 - recall_m: 0.1401 - val_loss: 0.3069 - val_accuracy: 0.8868 - val_f1_m: 0.2332 - val_precision_m: 0.2546 - val_recall_m: 0.23797 - precisio\n",
      "Epoch 43/50\n",
      "3862/3862 [==============================] - 9s 2ms/step - loss: 0.3732 - accuracy: 0.8839 - f1_m: 0.1359 - precision_m: 0.1519 - recall_m: 0.1394 - val_loss: 0.2916 - val_accuracy: 0.8920 - val_f1_m: 0.2027 - val_precision_m: 0.2305 - val_recall_m: 0.1981\n",
      "Epoch 44/50\n",
      "3862/3862 [==============================] - 10s 2ms/step - loss: 0.3693 - accuracy: 0.8832 - f1_m: 0.1412 - precision_m: 0.1575 - recall_m: 0.1465 - val_loss: 0.4174 - val_accuracy: 0.8873 - val_f1_m: 0.0000e+00 - val_precision_m: 0.0000e+00 - val_recall_m: 0.0000e+00\n",
      "Epoch 45/50\n",
      "3862/3862 [==============================] - 9s 2ms/step - loss: 0.3727 - accuracy: 0.8844 - f1_m: 0.1395 - precision_m: 0.1565 - recall_m: 0.1436 - val_loss: 0.2978 - val_accuracy: 0.8952 - val_f1_m: 0.1480 - val_precision_m: 0.1746 - val_recall_m: 0.1398\n",
      "Epoch 46/50\n",
      "3862/3862 [==============================] - 10s 2ms/step - loss: 0.3610 - accuracy: 0.8846 - f1_m: 0.1368 - precision_m: 0.1537 - recall_m: 0.1377 - val_loss: 0.2937 - val_accuracy: 0.8911 - val_f1_m: 0.2001 - val_precision_m: 0.2277 - val_recall_m: 0.1957\n",
      "Epoch 47/50\n",
      "3862/3862 [==============================] - 9s 2ms/step - loss: 0.3853 - accuracy: 0.8835 - f1_m: 0.1415 - precision_m: 0.1571 - recall_m: 0.1471 - val_loss: 0.3009 - val_accuracy: 0.8978 - val_f1_m: 0.1351 - val_precision_m: 0.1627 - val_recall_m: 0.1252\n",
      "Epoch 48/50\n",
      "3862/3862 [==============================] - 9s 2ms/step - loss: 0.3679 - accuracy: 0.8844 - f1_m: 0.1380 - precision_m: 0.1547 - recall_m: 0.1403 - val_loss: 0.2850 - val_accuracy: 0.8979 - val_f1_m: 0.1326 - val_precision_m: 0.1588 - val_recall_m: 0.1232\n",
      "Epoch 49/50\n",
      "3862/3862 [==============================] - 10s 3ms/step - loss: 0.3797 - accuracy: 0.8849 - f1_m: 0.1440 - precision_m: 0.1611 - recall_m: 0.1455 - val_loss: 0.3269 - val_accuracy: 0.8977 - val_f1_m: 0.1140 - val_precision_m: 0.1382 - val_recall_m: 0.1047\n",
      "Epoch 50/50\n",
      "3862/3862 [==============================] - 9s 2ms/step - loss: 0.3633 - accuracy: 0.8841 - f1_m: 0.1345 - precision_m: 0.1477 - recall_m: 0.1401 - val_loss: 0.5123 - val_accuracy: 0.7845 - val_f1_m: 0.3097 - val_precision_m: 0.2708 - val_recall_m: 0.4233\n"
     ]
    }
   ],
   "source": [
    "history = model.fit(X_train, y_train, epochs=50, batch_size=8, shuffle=True, validation_data=(X_test,y_test))"
   ]
  },
  {
   "cell_type": "code",
   "execution_count": 12,
   "id": "5f020027-6900-455e-a82f-6082681531f4",
   "metadata": {},
   "outputs": [
    {
     "name": "stdout",
     "output_type": "stream",
     "text": [
      "dict_keys(['loss', 'accuracy', 'f1_m', 'precision_m', 'recall_m', 'val_loss', 'val_accuracy', 'val_f1_m', 'val_precision_m', 'val_recall_m'])\n"
     ]
    }
   ],
   "source": [
    "print(history.history.keys())"
   ]
  },
  {
   "cell_type": "code",
   "execution_count": 13,
   "id": "6b71b844-5cc1-4db0-8a86-26e23da9db24",
   "metadata": {},
   "outputs": [
    {
     "data": {
      "image/png": "[encoded data removed]",
      "text/plain": [
       "<Figure size 400x280 with 1 Axes>"
      ]
     },
     "metadata": {
      "needs_background": "light"
     },
     "output_type": "display_data"
    },
    {
     "data": {
      "image/png": "[encoded data removed]",
      "text/plain": [
       "<Figure size 400x280 with 1 Axes>"
      ]
     },
     "metadata": {
      "needs_background": "light"
     },
     "output_type": "display_data"
    }
   ],
   "source": [
    "from matplotlib.pyplot import figure\n",
    "\n",
    "figure(figsize=(5, 3.5), dpi=80)\n",
    "\n",
    "plt.plot(history.history['accuracy'])\n",
    "plt.plot(history.history['val_accuracy'])\n",
    "plt.title('model accuracy')\n",
    "plt.ylabel('accuracy')\n",
    "plt.xlabel('epoch')\n",
    "plt.legend(['train', 'test'], loc='lower right')\n",
    "plt.show()\n",
    "figure(figsize=(5, 3.5), dpi=80)\n",
    "# summarize history for loss\n",
    "plt.plot(history.history['loss'])\n",
    "plt.plot(history.history['val_loss'])\n",
    "plt.title('model loss')\n",
    "plt.ylabel('loss')\n",
    "plt.xlabel('epoch')\n",
    "plt.legend(['train', 'test'], loc='upper right')\n",
    "plt.show()"
   ]
  },
  {
   "cell_type": "code",
   "execution_count": 14,
   "id": "047950e1-842b-49b1-9231-6a96fd81ff72",
   "metadata": {},
   "outputs": [
    {
     "name": "stdout",
     "output_type": "stream",
     "text": [
      "966/966 [==============================] - 2s 2ms/step - loss: 0.5080 - accuracy: 0.7824 - f1_m: 0.3819 - precision_m: 0.2933 - recall_m: 0.6395\n",
      "\n",
      "accuracy: 78.24%\n",
      "\n",
      "f1_m: 38.19%\n",
      "\n",
      "precision_m: 29.33%\n",
      "\n",
      "recall_m: 63.95%\n"
     ]
    }
   ],
   "source": [
    "scores = model.evaluate(X_train, y_train)\n",
    "print(\"\\n%s: %.2f%%\" % (model.metrics_names[1], scores[1]*100))\n",
    "print(\"\\n%s: %.2f%%\" % (model.metrics_names[2], scores[2]*100))\n",
    "print(\"\\n%s: %.2f%%\" % (model.metrics_names[3], scores[3]*100))\n",
    "print(\"\\n%s: %.2f%%\" % (model.metrics_names[4], scores[4]*100))"
   ]
  },
  {
   "cell_type": "code",
   "execution_count": 15,
   "id": "fd39bae5-76c0-410b-8149-fd0feaba7631",
   "metadata": {},
   "outputs": [],
   "source": [
    "from sklearn.metrics import roc_curve, roc_auc_score"
   ]
  },
  {
   "cell_type": "code",
   "execution_count": 16,
   "id": "532b66c1-643c-48e6-8ca6-697a0b4945e0",
   "metadata": {},
   "outputs": [],
   "source": [
    "tahmin=model.predict(X_test)"
   ]
  },
  {
   "cell_type": "code",
   "execution_count": 17,
   "id": "457b4273-f54e-47de-96c1-33c4ad674f0a",
   "metadata": {},
   "outputs": [],
   "source": [
    "r_auc = roc_auc_score(y_test, tahmin)"
   ]
  },
  {
   "cell_type": "code",
   "execution_count": 18,
   "id": "41312aec-e87d-404f-87e6-0e17f096a0f4",
   "metadata": {},
   "outputs": [],
   "source": [
    "fpr, tpr, thresholds = roc_curve(y_test, tahmin)"
   ]
  },
  {
   "cell_type": "code",
   "execution_count": 19,
   "id": "fe13dd0c-e863-47eb-b5ec-85a2af2bb3a4",
   "metadata": {},
   "outputs": [
    {
     "data": {
      "image/png": "[encoded data removed]",
      "text/plain": [
       "<Figure size 400x280 with 1 Axes>"
      ]
     },
     "metadata": {
      "needs_background": "light"
     },
     "output_type": "display_data"
    }
   ],
   "source": [
    "figure(figsize=(5, 3.5), dpi=80)\n",
    "\n",
    "plt.plot(fpr, tpr, linestyle='--', label='Random prediction (AUROC = %0.3f)' % r_auc)\n",
    "\n",
    "# Title\n",
    "plt.title('ROC Plot')\n",
    "# Axis labels\n",
    "plt.xlabel('False Positive Rate')\n",
    "plt.ylabel('True Positive Rate')\n",
    "# Show legend\n",
    "plt.legend() # \n",
    "# Show plot\n",
    "plt.show()"
   ]
  },
  {
   "cell_type": "code",
   "execution_count": 20,
   "id": "139e3d59-6f47-4876-a8a8-a5540b719e05",
   "metadata": {},
   "outputs": [
    {
     "name": "stdout",
     "output_type": "stream",
     "text": [
      "[[7278 1859]\n",
      " [ 360  800]]\n"
     ]
    }
   ],
   "source": [
    "from sklearn.metrics import confusion_matrix\n",
    "y_pred = model.predict(X_test)\n",
    "y_pred =(y_pred>0.5)\n",
    "list(y_pred)\n",
    "\n",
    "cm = confusion_matrix(y_test, y_pred)\n",
    "print(cm)"
   ]
  },
  {
   "cell_type": "code",
   "execution_count": 21,
   "id": "2ddc308c-01d0-4400-9f4f-285b1099ea06",
   "metadata": {},
   "outputs": [
    {
     "data": {
      "image/png": "[encoded data removed]",
      "text/plain": [
       "<Figure size 400x280 with 1 Axes>"
      ]
     },
     "metadata": {
      "needs_background": "light"
     },
     "output_type": "display_data"
    }
   ],
   "source": [
    "import seaborn as sns\n",
    "figure(figsize=(5, 3.5), dpi=80)\n",
    "ax = sns.heatmap(cm, annot=True, cmap='Blues',cbar=False, fmt='g')\n",
    "\n",
    "ax.set_title('Seaborn Confusion Matrix with labels\\n\\n');\n",
    "ax.set_xlabel('\\nPredicted Values')\n",
    "ax.set_ylabel('Actual Values ');\n",
    "\n",
    "## Ticket labels - List must be in alphabetical order\n",
    "ax.xaxis.set_ticklabels(['False','True'])\n",
    "ax.yaxis.set_ticklabels(['False','True'])\n",
    "\n",
    "## Display the visualization of the Confusion Matrix.\n",
    "plt.show()"
   ]
  },
  {
   "cell_type": "code",
   "execution_count": null,
   "id": "c089cdbb-40a5-4753-ae5e-558155f7bf9c",
   "metadata": {},
   "outputs": [],
   "source": []
  }
 ],
 "metadata": {
  "kernelspec": {
   "display_name": "Python 3",
   "language": "python",
   "name": "python3"
  },
  "language_info": {
   "codemirror_mode": {
    "name": "ipython",
    "version": 3
   },
   "file_extension": ".py",
   "mimetype": "text/x-python",
   "name": "python",
   "nbconvert_exporter": "python",
   "pygments_lexer": "ipython3",
   "version": "3.8.8"
  }
 },
 "nbformat": 4,
 "nbformat_minor": 5
}
